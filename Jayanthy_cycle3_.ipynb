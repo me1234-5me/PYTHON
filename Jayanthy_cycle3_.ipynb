{
  "nbformat": 4,
  "nbformat_minor": 0,
  "metadata": {
    "colab": {
      "name": "Jayanthy cycle3 .ipynb",
      "provenance": []
    },
    "kernelspec": {
      "name": "python3",
      "display_name": "Python 3"
    }
  },
  "cells": [
    {
      "cell_type": "code",
      "metadata": {
        "colab": {
          "base_uri": "https://localhost:8080/"
        },
        "id": "LawrxfxBwg0b",
        "outputId": "a99d465f-22ed-48ba-aceb-6711888a16bd"
      },
      "source": [
        " #1\r\n",
        " import math  \r\n",
        "\r\n",
        "print(math.factorial(5))\r\n",
        "\r\n"
      ],
      "execution_count": null,
      "outputs": [
        {
          "output_type": "stream",
          "text": [
            "120\n"
          ],
          "name": "stdout"
        }
      ]
    },
    {
      "cell_type": "code",
      "metadata": {
        "id": "Cx2H-ZD17qAb",
        "colab": {
          "base_uri": "https://localhost:8080/"
        },
        "outputId": "d068a524-eed0-4ff2-ecd6-ece5cc9fb0cb"
      },
      "source": [
        "#2\r\n",
        "a=0\r\n",
        "b=1\r\n",
        "n=int(input(\"enter the no.of fibonacci to be generated :\"))\r\n",
        "if n<=0:\r\n",
        "  print(\"not possible\")\r\n",
        "elif n==1:\r\n",
        "    print(a)\r\n",
        "elif n>=2:\r\n",
        "      print(\"{},{}\".format(a,b),end='')\r\n",
        "      for i in range(2,n):\r\n",
        "        c=a+b\r\n",
        "        print(\",{}\".format(c),end='')\r\n",
        "        a=b\r\n",
        "        b=c\r\n"
      ],
      "execution_count": null,
      "outputs": [
        {
          "output_type": "stream",
          "text": [
            "enter the no.of fibonacci to be generated :5\n",
            "0,1,1,2,3"
          ],
          "name": "stdout"
        }
      ]
    },
    {
      "cell_type": "code",
      "metadata": {
        "colab": {
          "base_uri": "https://localhost:8080/"
        },
        "id": "335UxCjLc10r",
        "outputId": "18badf95-ee6d-4af6-ccbc-60c25be0313e"
      },
      "source": [
        "#3 \r\n",
        "a = (1,2,4,5,6,7)\r\n",
        "x = sum(a)\r\n",
        "print(x)"
      ],
      "execution_count": null,
      "outputs": [
        {
          "output_type": "stream",
          "text": [
            "25\n"
          ],
          "name": "stdout"
        }
      ]
    },
    {
      "cell_type": "code",
      "metadata": {
        "colab": {
          "base_uri": "https://localhost:8080/"
        },
        "id": "GHa6EFfylAc0",
        "outputId": "809fa8d6-911f-49c8-a362-b91fefb30c3a"
      },
      "source": [
        "#10\r\n",
        "n=int(input(\"enter any number\"))\r\n",
        "print(\"the factors are\")\r\n",
        "for i in range(1,n+1,1):\r\n",
        "  if n%i==0:\r\n",
        "    print(i)"
      ],
      "execution_count": null,
      "outputs": [
        {
          "output_type": "stream",
          "text": [
            "enter any number10\n",
            "the factors are\n",
            "1\n",
            "2\n",
            "5\n",
            "10\n"
          ],
          "name": "stdout"
        }
      ]
    },
    {
      "cell_type": "code",
      "metadata": {
        "colab": {
          "base_uri": "https://localhost:8080/"
        },
        "id": "SPgZIPaFqTVQ",
        "outputId": "5d2e0772-ea9b-4a9c-af9d-e85dd85b2c13"
      },
      "source": [
        "#7\r\n",
        "x = \"python\"\r\n",
        "y = \"ing\"\r\n",
        "z = x + y\r\n",
        "print(z)"
      ],
      "execution_count": null,
      "outputs": [
        {
          "output_type": "stream",
          "text": [
            "pythoning\n"
          ],
          "name": "stdout"
        }
      ]
    },
    {
      "cell_type": "code",
      "metadata": {
        "colab": {
          "base_uri": "https://localhost:8080/"
        },
        "id": "C3T4PJd5vejL",
        "outputId": "f523bb62-1213-4e24-8815-751e9337d272"
      },
      "source": [
        "#eight\r\n",
        "a = [\"apple\", \"banana\", \"cherry\"]\r\n",
        "print(len(a))"
      ],
      "execution_count": null,
      "outputs": [
        {
          "output_type": "stream",
          "text": [
            "3\n"
          ],
          "name": "stdout"
        }
      ]
    },
    {
      "cell_type": "code",
      "metadata": {
        "id": "JU06ypfDvDnU",
        "colab": {
          "base_uri": "https://localhost:8080/"
        },
        "outputId": "546e9731-d821-41de-a0db-0fd330e403fc"
      },
      "source": [
        "#11\r\n",
        "x = lambda  r : r*r\r\n",
        "print(x(4))\r\n",
        "y=lambda l,w: l*w\r\n",
        "print(y(7,4))\r\n",
        "z=lambda a,b,c: (a+b+c)/2\r\n",
        "print(z(4,5,6))\r\n"
      ],
      "execution_count": null,
      "outputs": [
        {
          "output_type": "stream",
          "text": [
            "16\n",
            "28\n",
            "7.5\n"
          ],
          "name": "stdout"
        }
      ]
    },
    {
      "cell_type": "code",
      "metadata": {
        "colab": {
          "base_uri": "https://localhost:8080/"
        },
        "id": "jytIoxiLIrLq",
        "outputId": "e46f1ebf-6581-47fc-8273-b19f0d9de4d1"
      },
      "source": [
        "#9\r\n",
        "x=int(input(\"define size of the piramid\"))\r\n",
        "for i in range(x):\r\n",
        "    for j in range(x-i):\r\n",
        "        print('',end='')\r\n",
        "    for j in range(i):\r\n",
        "        print('*',end='')\r\n",
        "    for j in range(i):\r\n",
        "        print('*',end='')\r\n",
        "    print('*')"
      ],
      "execution_count": null,
      "outputs": [
        {
          "output_type": "stream",
          "text": [
            "define size of the piramid7\n",
            "*\n",
            "***\n",
            "*****\n",
            "*******\n",
            "*********\n",
            "***********\n",
            "*************\n"
          ],
          "name": "stdout"
        }
      ]
    },
    {
      "cell_type": "code",
      "metadata": {
        "id": "Lx2-RpudTjvy",
        "colab": {
          "base_uri": "https://localhost:8080/"
        },
        "outputId": "c2723357-26b5-4ac6-c62a-a702394d0f32"
      },
      "source": [
        "#3\r\n",
        "n=[]\r\n",
        "x=int(input(\"enter the limit of list element:\"))\r\n",
        "for i in range(1,x+1):\r\n",
        "  a=int(input())\r\n",
        "  n.append(a)\r\n",
        "t=sum(n)\r\n",
        "print(\"sum of all element in this list is: \",t)\r\n",
        "  "
      ],
      "execution_count": 2,
      "outputs": [
        {
          "output_type": "stream",
          "text": [
            "enter the limit of list element:5\n",
            "1\n",
            "3 \n",
            "5\n",
            "7\n",
            "9\n",
            "sum of all element in this list is:  25\n"
          ],
          "name": "stdout"
        }
      ]
    },
    {
      "cell_type": "code",
      "metadata": {
        "colab": {
          "base_uri": "https://localhost:8080/"
        },
        "id": "0kT8HFQyXaV3",
        "outputId": "d15e45fb-c732-44a9-d7cd-4af60e841eac"
      },
      "source": [
        "#4\r\n",
        "for i in range(1000,10000):\r\n",
        "  for j in range(32,100):\r\n",
        "    if i==j*j:\r\n",
        "      a=str(i)\r\n",
        "      if (int(a[0])%2==0 and int(a[1])%2==0 and int(a[2])%2==0 and int(a[3])%2==0):\r\n",
        "        print(i)"
      ],
      "execution_count": 3,
      "outputs": [
        {
          "output_type": "stream",
          "text": [
            "4624\n",
            "6084\n",
            "6400\n",
            "8464\n"
          ],
          "name": "stdout"
        }
      ]
    },
    {
      "cell_type": "code",
      "metadata": {
        "colab": {
          "base_uri": "https://localhost:8080/"
        },
        "id": "WqMent00Y22T",
        "outputId": "04152d9e-929e-4b4d-cd39-3a8f4f947642"
      },
      "source": [
        "#5\r\n",
        "def py(n):\r\n",
        "  x=1\r\n",
        "  for i in range(1, n+1):\r\n",
        "    for j in range(1, i+1):\r\n",
        "      print(x, end=\"\")\r\n",
        "      x=x+i\r\n",
        "    x=i+1\r\n",
        "    print(\"\\r\")\r\n",
        "n=int(input(\"enter the limit:\"))\r\n",
        "py(n)"
      ],
      "execution_count": 9,
      "outputs": [
        {
          "output_type": "stream",
          "text": [
            "enter the limit:7\n",
            "1\n",
            "24\n",
            "369\n",
            "481216\n",
            "510152025\n",
            "61218243036\n",
            "7142128354249\n"
          ],
          "name": "stdout"
        }
      ]
    },
    {
      "cell_type": "code",
      "metadata": {
        "colab": {
          "base_uri": "https://localhost:8080/"
        },
        "id": "Unqx0vFeaRod",
        "outputId": "129da0c1-0f5a-4f86-f0d0-0ee8e7326a23"
      },
      "source": [
        "#6\r\n",
        "def freq(s):\r\n",
        "  s=s.lower()\r\n",
        "  dict={}\r\n",
        "  for ch in s :\r\n",
        "    keys = dict.keys()\r\n",
        "    if ch in keys :\r\n",
        "      dict[ch]+=1\r\n",
        "    else:\r\n",
        "      dict[ch]=1\r\n",
        "  return dict\r\n",
        "s=input(\"enter any string :\")\r\n",
        "print(\"the character frequency of the given string\",s,\"are:\")\r\n",
        "print(freq(s))  \r\n"
      ],
      "execution_count": 10,
      "outputs": [
        {
          "output_type": "stream",
          "text": [
            "enter any string :weldon\n",
            "the character frequency of the given string weldon are:\n",
            "{'w': 1, 'e': 1, 'l': 1, 'd': 1, 'o': 1, 'n': 1}\n"
          ],
          "name": "stdout"
        }
      ]
    },
    {
      "cell_type": "code",
      "metadata": {
        "colab": {
          "base_uri": "https://localhost:8080/"
        },
        "id": "iXWFXD39b4j-",
        "outputId": "843be476-7dda-4dff-f72c-e85909b6c480"
      },
      "source": [
        "#7\r\n",
        "s=input(\"enter any string:\")\r\n",
        "if s.endswith(\"ing\") :\r\n",
        "  s+=\"ly\"\r\n",
        "else :\r\n",
        "  s+=\"ing\"\r\n",
        "print(\"modified string:\",s)"
      ],
      "execution_count": 17,
      "outputs": [
        {
          "output_type": "stream",
          "text": [
            "enter any string:wing\n",
            "modified string: wingly\n"
          ],
          "name": "stdout"
        }
      ]
    },
    {
      "cell_type": "code",
      "metadata": {
        "colab": {
          "base_uri": "https://localhost:8080/"
        },
        "id": "89LF66WajKCY",
        "outputId": "e908ecd0-f3bf-4392-aa13-d0e86e7f9303"
      },
      "source": [
        "#8\r\n",
        "l=[]\r\n",
        "n=int(input(\"enter the number of element in list:\"))\r\n",
        "for i in range(1,n+1):\r\n",
        "  x=input()\r\n",
        "  l.append(x)\r\n",
        "max=len(l[0])\r\n",
        "temp=l[0]\r\n",
        "for j in l:\r\n",
        "  if (len(j)>max):\r\n",
        "    max=len(j)\r\n",
        "    temp=j\r\n",
        "print(\"the word with the longest length is :\",temp)\r\n"
      ],
      "execution_count": 20,
      "outputs": [
        {
          "output_type": "stream",
          "text": [
            "enter the number of element in list:4\n",
            "apple\n",
            "orange\n",
            "banana\n",
            "pinapple\n",
            "the word with the longest length is : pinapple\n"
          ],
          "name": "stdout"
        }
      ]
    },
    {
      "cell_type": "code",
      "metadata": {
        "colab": {
          "base_uri": "https://localhost:8080/"
        },
        "id": "MXM5hMAqlQMS",
        "outputId": "eec60c54-242c-4a22-827d-9941c7dec6b4"
      },
      "source": [
        "#10\r\n",
        "n=int(input(\"enter any number\"))\r\n",
        "i=1\r\n",
        "print(\"all factors of \",n,\"are:\")\r\n",
        "while i<=n:\r\n",
        "  if n%i==0:\r\n",
        "    print(i)\r\n",
        "  i=i+1"
      ],
      "execution_count": 21,
      "outputs": [
        {
          "output_type": "stream",
          "text": [
            "enter any number5\n",
            "all factors of  5 are:\n",
            "1\n",
            "5\n"
          ],
          "name": "stdout"
        }
      ]
    }
  ]
}