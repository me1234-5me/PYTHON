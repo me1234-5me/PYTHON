{
  "nbformat": 4,
  "nbformat_minor": 0,
  "metadata": {
    "colab": {
      "name": "jayanthycycle2.ipynb",
      "provenance": [],
      "collapsed_sections": []
    },
    "kernelspec": {
      "name": "python3",
      "display_name": "Python 3"
    }
  },
  "cells": [
    {
      "cell_type": "code",
      "metadata": {
        "colab": {
          "base_uri": "https://localhost:8080/"
        },
        "id": "taZ8Ke5dsIV3",
        "outputId": "ddd3c97f-88b3-4d0f-9180-8ab57787605a"
      },
      "source": [
        "fruits = [\"apple\", \"banana\", \"cherry\", \"kiwi\", \"mango\"]\r\n",
        "newlist = []\r\n",
        "\r\n",
        "for x in fruits:\r\n",
        "  if \"a\" in x:\r\n",
        "    newlist.append(x)\r\n",
        "\r\n",
        "print(newlist)\r\n"
      ],
      "execution_count": null,
      "outputs": [
        {
          "output_type": "stream",
          "text": [
            "['apple', 'banana', 'mango']\n"
          ],
          "name": "stdout"
        }
      ]
    },
    {
      "cell_type": "code",
      "metadata": {
        "colab": {
          "base_uri": "https://localhost:8080/"
        },
        "id": "fZf03qME_gYk",
        "outputId": "cbe98ed2-9074-416b-8903-8c27a67c4b93"
      },
      "source": [
        "#three a\r\n",
        "x=[]\r\n",
        "n=int(input(\"enter list of items:\"))\r\n",
        "for i in range(1,n+1):\r\n",
        "  a=int(input(\"enter the value of %d item:\"%i))\r\n",
        "  x.append(a)\r\n",
        "  y=[num for num in x if num >=0]\r\n",
        "  print(\"initial list of integers is:\",x)\r\n",
        "  print(\"modified list of positive numbers is:\",y)\r\n",
        "\r\n"
      ],
      "execution_count": null,
      "outputs": [
        {
          "output_type": "stream",
          "text": [
            "enter list of items:3\n",
            "enter the value of 1 item:3\n",
            "initial list of integers is: [3]\n",
            "modified list of positive numbers is: [3]\n",
            "enter the value of 2 item:-6\n",
            "initial list of integers is: [3, -6]\n",
            "modified list of positive numbers is: [3]\n",
            "enter the value of 3 item:-2\n",
            "initial list of integers is: [3, -6, -2]\n",
            "modified list of positive numbers is: [3]\n"
          ],
          "name": "stdout"
        }
      ]
    },
    {
      "cell_type": "code",
      "metadata": {
        "id": "7bXocPglD2jA"
      },
      "source": [
        "\r\n"
      ],
      "execution_count": null,
      "outputs": []
    },
    {
      "cell_type": "code",
      "metadata": {
        "colab": {
          "base_uri": "https://localhost:8080/"
        },
        "id": "4FwzA74AGcHJ",
        "outputId": "a5c5d7a6-2057-46f9-a978-12407fe023c0"
      },
      "source": [
        "#3c\r\n",
        "w=input(\"enter any value:\")\r\n",
        "v=[l for l in w if l in 'aeiou']\r\n",
        "print(\"list of vowels in\",w,\":\",v)\r\n"
      ],
      "execution_count": null,
      "outputs": [
        {
          "output_type": "stream",
          "text": [
            "enter any value:aeroplane\n",
            "list of vowels in aeroplane : ['a', 'e', 'o', 'a', 'e']\n"
          ],
          "name": "stdout"
        }
      ]
    },
    {
      "cell_type": "code",
      "metadata": {
        "colab": {
          "base_uri": "https://localhost:8080/"
        },
        "id": "8cikJUXuJBlW",
        "outputId": "5eff9de4-3837-464e-f4e5-3e9848b329bd"
      },
      "source": [
        "#3d\r\n",
        "w=input(\"enter any word:\")\r\n",
        "for l in range(len(w)):\r\n",
        "  print(\"ASCII value is\",w[l],\"is\",ord(w[l]))"
      ],
      "execution_count": null,
      "outputs": [
        {
          "output_type": "stream",
          "text": [
            "enter any word:open\n",
            "ASCII value is o is 111\n",
            "ASCII value is p is 112\n",
            "ASCII value is e is 101\n",
            "ASCII value is n is 110\n"
          ],
          "name": "stdout"
        }
      ]
    },
    {
      "cell_type": "code",
      "metadata": {
        "colab": {
          "base_uri": "https://localhost:8080/"
        },
        "id": "mjV-LhwD6Dt6",
        "outputId": "674184c4-69b1-41c5-a02d-a0a6aaf1031b"
      },
      "source": [
        "(#1\r\n",
        "n=input( \"enter your house name:\"    )\r\n",
        "s=input(\"enter your house number:\")\r\n",
        "a=input(\"enter your street:\")\r\n",
        "b=input(\"enter your nation:\")\r\n",
        "c=input(\"enter your state:\")\r\n",
        "d=input(\"enter your postnumber:\")\r\n",
        "e=input(\"enter your thaaluk:\")\r\n",
        "f=input(\"enter your pincode:\")\r\n",
        "print(n,s,a,b,c,d,e,f)"
      ],
      "execution_count": null,
      "outputs": [
        {
          "output_type": "stream",
          "text": [
            "enter your house name:thadikkapparampil\n",
            "enter your house number:419\n",
            "enter your street:teekoy\n",
            "enter your nation:india\n",
            "enter your state:kerala\n",
            "enter your postnumber:1245\n",
            "enter your thaaluk:meenachil\n",
            "enter your pincode:665069\n",
            "thadikkapparampil 419 teekoy india kerala 1245 meenachil 665069\n"
          ],
          "name": "stdout"
        }
      ]
    },
    {
      "cell_type": "code",
      "metadata": {
        "id": "Ke9SmqOFBi_L"
      },
      "source": [
        ""
      ],
      "execution_count": null,
      "outputs": []
    },
    {
      "cell_type": "code",
      "metadata": {
        "id": "0wzDgZJAluII"
      },
      "source": [
        ""
      ],
      "execution_count": null,
      "outputs": []
    },
    {
      "cell_type": "code",
      "metadata": {
        "colab": {
          "base_uri": "https://localhost:8080/"
        },
        "id": "wXp_GZbqaktW",
        "outputId": "8f0d76f1-e876-4972-c994-67229aab507d"
      },
      "source": [
        "#1three\r\n",
        "color_list=[\"red\",\"green\",\"white\",\"black\"]\r\n",
        "print(\"%s %s\"%(color_list[0],color_list[-1]))\r\n"
      ],
      "execution_count": null,
      "outputs": [
        {
          "output_type": "stream",
          "text": [
            "red black\n"
          ],
          "name": "stdout"
        }
      ]
    },
    {
      "cell_type": "code",
      "metadata": {
        "colab": {
          "base_uri": "https://localhost:8080/"
        },
        "id": "-QTS9L4CbOWo",
        "outputId": "1390f690-9bd3-4b77-a090-1e08d262ecb3"
      },
      "source": [
        "#16\r\n",
        "def chars_mix_up(a,b):\r\n",
        "  new_a = b[:2] + a[2:]\r\n",
        "  new_b = a[:2] + b[2:]\r\n",
        "  return new_a + '' + new_b\r\n",
        "print(chars_mix_up('abc',  'xyz'))"
      ],
      "execution_count": null,
      "outputs": [
        {
          "output_type": "stream",
          "text": [
            "xycabz\n"
          ],
          "name": "stdout"
        }
      ]
    },
    {
      "cell_type": "code",
      "metadata": {
        "colab": {
          "base_uri": "https://localhost:8080/"
        },
        "id": "kohquEJ8c5Yi",
        "outputId": "cf35da81-290a-4283-968f-1f95fc325a7e"
      },
      "source": [
        "#15\r\n",
        "color_list_1 = set ([\"white\",\"black\",\"red\"])\r\n",
        "color_list_2 = set ([\"red\",\"green\"])\r\n",
        "print(color_list_1.difference(color_list_2))\r\n"
      ],
      "execution_count": null,
      "outputs": [
        {
          "output_type": "stream",
          "text": [
            "{'white', 'black'}\n"
          ],
          "name": "stdout"
        }
      ]
    },
    {
      "cell_type": "code",
      "metadata": {
        "colab": {
          "base_uri": "https://localhost:8080/"
        },
        "id": "h-jQzyGxeEuS",
        "outputId": "d6fbc002-d9fd-4ef6-e4da-cdfbecb96026"
      },
      "source": [
        "#\r\n",
        "x=[]\r\n",
        "n=int(input(\"enter any integer:\"))\r\n",
        "for i in range(1,n+1):\r\n",
        "  a=int(input())\r\n",
        "  if (a>100):\r\n",
        "    x.append('over')\r\n",
        "  else:\r\n",
        "      x.append(a)\r\n",
        "print(\"modified list\",x)\r\n"
      ],
      "execution_count": null,
      "outputs": [
        {
          "output_type": "stream",
          "text": [
            "enter any integer:4\n",
            "20\n",
            "40\n",
            "200\n",
            "100\n",
            "modified list [20, 40, 'over', 100]\n"
          ],
          "name": "stdout"
        }
      ]
    },
    {
      "cell_type": "code",
      "metadata": {
        "colab": {
          "base_uri": "https://localhost:8080/"
        },
        "id": "1XO4JJ68nN8j",
        "outputId": "61dd83a7-6c37-41ba-a391-30647536477d"
      },
      "source": [
        "#2\r\n",
        "def find_leap_years(given_year):\r\n",
        "    jsn=0\r\n",
        "    list_of_leap_years=[]\r\n",
        "        \r\n",
        "    while(jsn<15):\r\n",
        "        if(given_year%4==0 and given_year%100!=0) or given_year%400==0:\r\n",
        "            list_of_leap_years.append(given_year)\r\n",
        "            jsn=jsn+1\r\n",
        "        given_year=given_year+1\r\n",
        "    return list_of_leap_years\r\n",
        "\r\n",
        "list_of_leap_years=find_leap_years(2021)\r\n",
        "print(list_of_leap_years)\r\n",
        "  "
      ],
      "execution_count": null,
      "outputs": [
        {
          "output_type": "stream",
          "text": [
            "[2024, 2028, 2032, 2036, 2040, 2044, 2048, 2052, 2056, 2060, 2064, 2068, 2072, 2076, 2080]\n"
          ],
          "name": "stdout"
        }
      ]
    },
    {
      "cell_type": "code",
      "metadata": {
        "id": "w1hwAkxBpd0C"
      },
      "source": [
        "#3b\r\n",
        "def squares(start, end):\r\n",
        "    squares = [value ** 2 for value in range(start,end+1)]\r\n",
        "    return squares\r\n",
        "print(squares(2, 3)) # Should be [4, 9]\r\n",
        "print(squares(1, 5)) # Should be [1, 4, 9, 16, 25]\r\n",
        "print(squares(0, 10)) # Should be [0, 1, 4, 9, 16, 25, 36, 49, 64, 81, 100]"
      ],
      "execution_count": null,
      "outputs": []
    },
    {
      "cell_type": "code",
      "metadata": {
        "colab": {
          "base_uri": "https://localhost:8080/"
        },
        "id": "uTJygh5Zuct3",
        "outputId": "47bac256-e3fd-4ac9-bf43-b18c4c9fe371"
      },
      "source": [
        "#17\r\n",
        "d1={4:\"e\",2:\"a\",1:\"c\",7:\"b\",5:\"d\"}\r\n",
        "sorted(d1)\r\n",
        "print (sorted(d1))\r\n",
        "sorted(d1,reverse=True)\r\n",
        "print(sorted(d1,reverse=True))"
      ],
      "execution_count": null,
      "outputs": [
        {
          "output_type": "stream",
          "text": [
            "[1, 2, 4, 5, 7]\n",
            "[7, 5, 4, 2, 1]\n"
          ],
          "name": "stdout"
        }
      ]
    },
    {
      "cell_type": "code",
      "metadata": {
        "colab": {
          "base_uri": "https://localhost:8080/"
        },
        "id": "YCQuX4pXJC7S",
        "outputId": "029ca3ed-1a18-493f-b5d2-27ebaa6a21bb"
      },
      "source": [
        "#1eight\r\n",
        "\"v={'a':1,'b':2}\r\n",
        "s={'c':4,'d':5}\r\n",
        "v.update(s)\r\n",
        "print(v)"
      ],
      "execution_count": null,
      "outputs": [
        {
          "output_type": "stream",
          "text": [
            "{'a': 1, 'b': 2, 'c': 4, 'd': 5}\n"
          ],
          "name": "stdout"
        }
      ]
    },
    {
      "cell_type": "code",
      "metadata": {
        "colab": {
          "base_uri": "https://localhost:8080/"
        },
        "id": "M9WFOaa4Lvnj",
        "outputId": "f27ec776-7145-4a5a-fb5e-1e8c4e15d8d1"
      },
      "source": [
        "#20\r\n",
        "a=[10,11,12,14,15,16,17]\r\n",
        "even_list=[]\r\n",
        "for i in a:\r\n",
        "  if i%2==0:\r\n",
        "    even_list.append(i)\r\n",
        "print(even_list)\r\n"
      ],
      "execution_count": null,
      "outputs": [
        {
          "output_type": "stream",
          "text": [
            "[10, 12, 14, 16]\n"
          ],
          "name": "stdout"
        }
      ]
    },
    {
      "cell_type": "code",
      "metadata": {
        "id": "PT9KA_S1PQA3"
      },
      "source": [
        ""
      ],
      "execution_count": null,
      "outputs": []
    },
    {
      "cell_type": "code",
      "metadata": {
        "colab": {
          "base_uri": "https://localhost:8080/"
        },
        "id": "gljxErgBv3ji",
        "outputId": "6ba141bd-05af-43b6-ee87-577170c17c3b"
      },
      "source": [
        "#4\r\n",
        "user_str=input(\"enter the string\")\r\n",
        "l= user_str.split()\r\n",
        "d={}\r\n",
        "for i in l:\r\n",
        "  d[i]=d.get(i,0)+1\r\n",
        "print(d)"
      ],
      "execution_count": null,
      "outputs": [
        {
          "output_type": "stream",
          "text": [
            "enter the stringhallo world hallo\n",
            "{'hallo': 2, 'world': 1}\n"
          ],
          "name": "stdout"
        }
      ]
    },
    {
      "cell_type": "code",
      "metadata": {
        "colab": {
          "base_uri": "https://localhost:8080/"
        },
        "id": "2U1kZ6SR2feI",
        "outputId": "60a71642-3df8-4602-d28b-7828582d832c"
      },
      "source": [
        "#5\r\n",
        "string=input(\"enter any string\")\r\n",
        "c=input(\"enter the character to check frequency\")\r\n",
        "count=0\r\n",
        "for i in string:\r\n",
        "  if i==c:\r\n",
        "    count+=1\r\n",
        "    print(c,\"occurs\",count,\"time(s).\")\r\n",
        " "
      ],
      "execution_count": null,
      "outputs": [
        {
          "output_type": "stream",
          "text": [
            "enter any stringa man\n",
            "enter the character to check frequencya\n",
            "a occurs 1 time(s).\n",
            "a occurs 2 time(s).\n"
          ],
          "name": "stdout"
        }
      ]
    },
    {
      "cell_type": "code",
      "metadata": {
        "colab": {
          "base_uri": "https://localhost:8080/"
        },
        "id": "3NzOsgx35c-Y",
        "outputId": "40e76f2c-8727-42f6-d2e9-5bf59bedaad4"
      },
      "source": [
        "#7\r\n",
        "a=[1,2,7,66,5]\r\n",
        "b=[77,1,99,44,0,4]\r\n",
        "z=[]\r\n",
        "for i in a:\r\n",
        "  if i in b:\r\n",
        "    z.append(i)\r\n",
        "    print(\"the common element are\",z)\r\n",
        "total=sum(a)\r\n",
        "print(\"the sum of all element in the list\",total)\r\n",
        "total=sum(b)\r\n",
        "print(\"the sum of all element in the list\",total)\r\n",
        "  \r\n",
        "print(len(a))\r\n",
        "print(len(b))\r\n",
        "if len(a)==len(b):\r\n",
        "  print(\"same length\")\r\n",
        "else: \r\n",
        "   print(\"two list have different list  length\")\r\n",
        "  "
      ],
      "execution_count": null,
      "outputs": [
        {
          "output_type": "stream",
          "text": [
            "the common element are [1]\n",
            "the sum of all element in the list 81\n",
            "the sum of all element in the list 225\n",
            "5\n",
            "6\n",
            "two list have different list  length\n"
          ],
          "name": "stdout"
        }
      ]
    },
    {
      "cell_type": "code",
      "metadata": {
        "colab": {
          "base_uri": "https://localhost:8080/"
        },
        "id": "JnCh6sv_U5nl",
        "outputId": "d13828f1-5295-40b8-e4e0-e08960753e5d"
      },
      "source": [
        "#eight\r\n",
        "txt = input(str(\"enter the string\"))\r\n",
        "\r\n",
        "x = txt.replace(\"a\", \"&\")\r\n",
        "\r\n",
        "print(x)\r\n"
      ],
      "execution_count": null,
      "outputs": [
        {
          "output_type": "stream",
          "text": [
            "enter the stringbanana\n",
            "b&n&n&\n"
          ],
          "name": "stdout"
        }
      ]
    },
    {
      "cell_type": "code",
      "metadata": {
        "colab": {
          "base_uri": "https://localhost:8080/"
        },
        "id": "xm10eTg3WZX4",
        "outputId": "77b10494-377a-4bcf-d1a0-3cac1105b74b"
      },
      "source": [
        "#9\r\n",
        "a=input()\r\n",
        "print(\"before exchange:\",a)\r\n",
        "str1=a[-1:]+a[1:-1]+a[0]\r\n",
        "print(\"after exchange:\",str1)"
      ],
      "execution_count": 1,
      "outputs": [
        {
          "output_type": "stream",
          "text": [
            "python\n",
            "before exchange: python\n",
            "after exchange: nythop\n"
          ],
          "name": "stdout"
        }
      ]
    },
    {
      "cell_type": "code",
      "metadata": {
        "colab": {
          "base_uri": "https://localhost:8080/"
        },
        "id": "p-UceQPONgmE",
        "outputId": "a88912ef-62b3-4321-a9fd-97212f489723"
      },
      "source": [
        "\r\n",
        "#10\r\n",
        "import math\r\n",
        "\r\n",
        "r = float(input('Enter the radius of the circle :'))\r\n",
        "area = math.pi * r * r\r\n",
        "\r\n",
        "print(\"Area of the circle is : %.2f\" %area)\r\n"
      ],
      "execution_count": null,
      "outputs": [
        {
          "output_type": "stream",
          "text": [
            "Enter the radius of the circle :5\n",
            "Area of the circle is : 78.54\n"
          ],
          "name": "stdout"
        }
      ]
    },
    {
      "cell_type": "code",
      "metadata": {
        "id": "t32nZxiUeimA",
        "colab": {
          "base_uri": "https://localhost:8080/"
        },
        "outputId": "38903b27-5b1f-43c4-bcb5-e4ce50d24246"
      },
      "source": [
        "#11\r\n",
        "num1 = int(input())\r\n",
        "num2 = int(input())\r\n",
        "num3 = int(input())\r\n",
        "if (num1 >= num2) and (num1 >= num3):\r\n",
        " largest = num1\r\n",
        "elif (num2 >= num1) and (num2 >= num3):\r\n",
        " greatest = num2\r\n",
        "else:\r\n",
        " greatest = num3\r\n",
        "print(\"The greatest number is\",greatest )\r\n"
      ],
      "execution_count": null,
      "outputs": [
        {
          "output_type": "stream",
          "text": [
            "2\n",
            "4\n",
            "9\n",
            "The greatest number is 9\n"
          ],
          "name": "stdout"
        }
      ]
    },
    {
      "cell_type": "code",
      "metadata": {
        "colab": {
          "base_uri": "https://localhost:8080/"
        },
        "id": "zTWB_JOnp2fX",
        "outputId": "2d3d5586-faff-4b45-9c8d-f182b96f1a3b"
      },
      "source": [
        "#12\r\n",
        "filename=input(\"input filename\")\r\n",
        "f_extns=filename.split(\".\")\r\n",
        "print(\"extension of the file is:\"+repr(f_extns[-1]))"
      ],
      "execution_count": null,
      "outputs": [
        {
          "output_type": "stream",
          "text": [
            "input filenameabcd.ghy\n",
            "extension of the file is:'ghy'\n"
          ],
          "name": "stdout"
        }
      ]
    },
    {
      "cell_type": "code",
      "metadata": {
        "colab": {
          "base_uri": "https://localhost:8080/"
        },
        "id": "VGz6zipQtsI0",
        "outputId": "fcc91690-21c0-4a51-9555-6ad5018b7dd3"
      },
      "source": [
        "#14\r\n",
        "n=int(input(\"enter a number n:\"))\r\n",
        "temp=str(n)\r\n",
        "t1=temp+temp\r\n",
        "t2=temp+temp+temp\r\n",
        "comp=n+int(t1)+int(t2)\r\n",
        "print(\"the value is :\",comp)"
      ],
      "execution_count": null,
      "outputs": [
        {
          "output_type": "stream",
          "text": [
            "enter a number n:5\n",
            "the value is : 615\n"
          ],
          "name": "stdout"
        }
      ]
    },
    {
      "cell_type": "code",
      "metadata": {
        "id": "ep3M1ZZj2NW0"
      },
      "source": [
        ""
      ],
      "execution_count": null,
      "outputs": []
    },
    {
      "cell_type": "code",
      "metadata": {
        "colab": {
          "base_uri": "https://localhost:8080/"
        },
        "id": "b3M6tqkK5vNM",
        "outputId": "c39336bf-1363-4b6e-9ca4-121e8ae615c9"
      },
      "source": [
        "#19\r\n",
        "a=int(input(\"enter a:\"))\r\n",
        "b=int(input(\"enter b:\"))\r\n",
        "c=min(a,b)\r\n",
        "gcd=1\r\n",
        "for i in range(1,c+1):\r\n",
        "  if a%i==0 and b%i==0:\r\n",
        "    gcd=i\r\n",
        "    print( \"gcd i is :\",gcd)\r\n",
        "  "
      ],
      "execution_count": null,
      "outputs": [
        {
          "output_type": "stream",
          "text": [
            "enter a:20\n",
            "enter b:50\n",
            "gcd i is : 1\n",
            "gcd i is : 2\n",
            "gcd i is : 5\n",
            "gcd i is : 10\n"
          ],
          "name": "stdout"
        }
      ]
    }
  ]
}