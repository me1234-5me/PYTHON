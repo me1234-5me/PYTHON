{
  "nbformat": 4,
  "nbformat_minor": 0,
  "metadata": {
    "colab": {
      "name": "jayanthycycle2.ipynb",
      "provenance": []
    },
    "kernelspec": {
      "name": "python3",
      "display_name": "Python 3"
    }
  },
  "cells": [
    {
      "cell_type": "code",
      "metadata": {
        "colab": {
          "base_uri": "https://localhost:8080/"
        },
        "id": "taZ8Ke5dsIV3",
        "outputId": "ddd3c97f-88b3-4d0f-9180-8ab57787605a"
      },
      "source": [
        "fruits = [\"apple\", \"banana\", \"cherry\", \"kiwi\", \"mango\"]\r\n",
        "newlist = []\r\n",
        "\r\n",
        "for x in fruits:\r\n",
        "  if \"a\" in x:\r\n",
        "    newlist.append(x)\r\n",
        "\r\n",
        "print(newlist)\r\n"
      ],
      "execution_count": 1,
      "outputs": [
        {
          "output_type": "stream",
          "text": [
            "['apple', 'banana', 'mango']\n"
          ],
          "name": "stdout"
        }
      ]
    },
    {
      "cell_type": "code",
      "metadata": {
        "colab": {
          "base_uri": "https://localhost:8080/"
        },
        "id": "gljxErgBv3ji",
        "outputId": "6ba141bd-05af-43b6-ee87-577170c17c3b"
      },
      "source": [
        "user_str=input(\"enter the string\")\r\n",
        "l= user_str.split()\r\n",
        "d={}\r\n",
        "for i in l:\r\n",
        "  d[i]=d.get(i,0)+1\r\n",
        "print(d)"
      ],
      "execution_count": 8,
      "outputs": [
        {
          "output_type": "stream",
          "text": [
            "enter the stringhallo world hallo\n",
            "{'hallo': 2, 'world': 1}\n"
          ],
          "name": "stdout"
        }
      ]
    },
    {
      "cell_type": "code",
      "metadata": {
        "colab": {
          "base_uri": "https://localhost:8080/"
        },
        "id": "2U1kZ6SR2feI",
        "outputId": "530105c0-3f4d-4bb6-acf4-153c80e1324b"
      },
      "source": [
        "string=input(\"enter any string\")\r\n",
        "c=input(\"enter the character to check frequency\")\r\n",
        "count=0\r\n",
        "for i in string:\r\n",
        "  if i==c:\r\n",
        "    count+=1\r\n",
        "    print(c,\"occurs\",count,\"time(s).\")\r\n",
        " "
      ],
      "execution_count": 16,
      "outputs": [
        {
          "output_type": "stream",
          "text": [
            "enter any stringaa aa tgtaaa\n",
            "enter the character to check frequencya\n",
            "a occurs 1 time(s).\n",
            "a occurs 2 time(s).\n",
            "a occurs 3 time(s).\n",
            "a occurs 4 time(s).\n",
            "a occurs 5 time(s).\n",
            "a occurs 6 time(s).\n",
            "a occurs 7 time(s).\n"
          ],
          "name": "stdout"
        }
      ]
    },
    {
      "cell_type": "code",
      "metadata": {
        "colab": {
          "base_uri": "https://localhost:8080/"
        },
        "id": "3NzOsgx35c-Y",
        "outputId": "40e76f2c-8727-42f6-d2e9-5bf59bedaad4"
      },
      "source": [
        "a=[1,2,7,66,5]\r\n",
        "b=[77,1,99,44,0,4]\r\n",
        "z=[]\r\n",
        "for i in a:\r\n",
        "  if i in b:\r\n",
        "    z.append(i)\r\n",
        "    print(\"the common element are\",z)\r\n",
        "total=sum(a)\r\n",
        "print(\"the sum of all element in the list\",total)\r\n",
        "total=sum(b)\r\n",
        "print(\"the sum of all element in the list\",total)\r\n",
        "  \r\n",
        "print(len(a))\r\n",
        "print(len(b))\r\n",
        "if len(a)==len(b):\r\n",
        "  print(\"same length\")\r\n",
        "else: \r\n",
        "   print(\"two list have different list  length\")\r\n",
        "  "
      ],
      "execution_count": 73,
      "outputs": [
        {
          "output_type": "stream",
          "text": [
            "the common element are [1]\n",
            "the sum of all element in the list 81\n",
            "the sum of all element in the list 225\n",
            "5\n",
            "6\n",
            "two list have different list  length\n"
          ],
          "name": "stdout"
        }
      ]
    },
    {
      "cell_type": "code",
      "metadata": {
        "colab": {
          "base_uri": "https://localhost:8080/"
        },
        "id": "JnCh6sv_U5nl",
        "outputId": "d13828f1-5295-40b8-e4e0-e08960753e5d"
      },
      "source": [
        "txt = input(str(\"enter the string\"))\r\n",
        "\r\n",
        "x = txt.replace(\"a\", \"&\")\r\n",
        "\r\n",
        "print(x)\r\n"
      ],
      "execution_count": 76,
      "outputs": [
        {
          "output_type": "stream",
          "text": [
            "enter the stringbanana\n",
            "b&n&n&\n"
          ],
          "name": "stdout"
        }
      ]
    },
    {
      "cell_type": "code",
      "metadata": {
        "colab": {
          "base_uri": "https://localhost:8080/"
        },
        "id": "xm10eTg3WZX4",
        "outputId": "d18d5918-c10b-4f43-a857-d61616b89cca"
      },
      "source": [
        "a=input()\r\n",
        "print(\"before exchange:\",a)\r\n",
        "str1=a[-1:]+a[1:-1]+a[0]\r\n",
        "print(\"after exchange:\",str1)"
      ],
      "execution_count": 78,
      "outputs": [
        {
          "output_type": "stream",
          "text": [
            "aghdghaghaghdgahg\n",
            "before exchange: aghdghaghaghdgahg\n",
            "after exchange: gghdghaghaghdgaha\n"
          ],
          "name": "stdout"
        }
      ]
    },
    {
      "cell_type": "code",
      "metadata": {
        "colab": {
          "base_uri": "https://localhost:8080/"
        },
        "id": "p-UceQPONgmE",
        "outputId": "a88912ef-62b3-4321-a9fd-97212f489723"
      },
      "source": [
        "\r\n",
        "\r\n",
        "import math\r\n",
        "\r\n",
        "r = float(input('Enter the radius of the circle :'))\r\n",
        "area = math.pi * r * r\r\n",
        "\r\n",
        "print(\"Area of the circle is : %.2f\" %area)\r\n"
      ],
      "execution_count": 88,
      "outputs": [
        {
          "output_type": "stream",
          "text": [
            "Enter the radius of the circle :5\n",
            "Area of the circle is : 78.54\n"
          ],
          "name": "stdout"
        }
      ]
    },
    {
      "cell_type": "code",
      "metadata": {
        "id": "t32nZxiUeimA"
      },
      "source": [
        ""
      ],
      "execution_count": null,
      "outputs": []
    }
  ]
}