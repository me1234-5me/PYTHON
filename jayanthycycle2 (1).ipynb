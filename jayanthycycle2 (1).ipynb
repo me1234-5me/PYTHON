{
  "nbformat": 4,
  "nbformat_minor": 0,
  "metadata": {
    "colab": {
      "name": "jayanthycycle2.ipynb",
      "provenance": []
    },
    "kernelspec": {
      "name": "python3",
      "display_name": "Python 3"
    }
  },
  "cells": [
    {
      "cell_type": "code",
      "metadata": {
        "colab": {
          "base_uri": "https://localhost:8080/"
        },
        "id": "taZ8Ke5dsIV3",
        "outputId": "ddd3c97f-88b3-4d0f-9180-8ab57787605a"
      },
      "source": [
        "fruits = [\"apple\", \"banana\", \"cherry\", \"kiwi\", \"mango\"]\r\n",
        "newlist = []\r\n",
        "\r\n",
        "for x in fruits:\r\n",
        "  if \"a\" in x:\r\n",
        "    newlist.append(x)\r\n",
        "\r\n",
        "print(newlist)\r\n"
      ],
      "execution_count": null,
      "outputs": [
        {
          "output_type": "stream",
          "text": [
            "['apple', 'banana', 'mango']\n"
          ],
          "name": "stdout"
        }
      ]
    },
    {
      "cell_type": "code",
      "metadata": {
        "colab": {
          "base_uri": "https://localhost:8080/"
        },
        "id": "uTJygh5Zuct3",
        "outputId": "47bac256-e3fd-4ac9-bf43-b18c4c9fe371"
      },
      "source": [
        "d1={4:\"e\",2:\"a\",1:\"c\",7:\"b\",5:\"d\"}\r\n",
        "sorted(d1)\r\n",
        "print (sorted(d1))\r\n",
        "sorted(d1,reverse=True)\r\n",
        "print(sorted(d1,reverse=True))"
      ],
      "execution_count": null,
      "outputs": [
        {
          "output_type": "stream",
          "text": [
            "[1, 2, 4, 5, 7]\n",
            "[7, 5, 4, 2, 1]\n"
          ],
          "name": "stdout"
        }
      ]
    },
    {
      "cell_type": "code",
      "metadata": {
        "colab": {
          "base_uri": "https://localhost:8080/"
        },
        "id": "YCQuX4pXJC7S",
        "outputId": "029ca3ed-1a18-493f-b5d2-27ebaa6a21bb"
      },
      "source": [
        "\"v={'a':1,'b':2}\r\n",
        "s={'c':4,'d':5}\r\n",
        "v.update(s)\r\n",
        "print(v)"
      ],
      "execution_count": null,
      "outputs": [
        {
          "output_type": "stream",
          "text": [
            "{'a': 1, 'b': 2, 'c': 4, 'd': 5}\n"
          ],
          "name": "stdout"
        }
      ]
    },
    {
      "cell_type": "code",
      "metadata": {
        "colab": {
          "base_uri": "https://localhost:8080/"
        },
        "id": "M9WFOaa4Lvnj",
        "outputId": "f27ec776-7145-4a5a-fb5e-1e8c4e15d8d1"
      },
      "source": [
        "a=[10,11,12,14,15,16,17]\r\n",
        "even_list=[]\r\n",
        "for i in a:\r\n",
        "  if i%2==0:\r\n",
        "    even_list.append(i)\r\n",
        "print(even_list)\r\n"
      ],
      "execution_count": null,
      "outputs": [
        {
          "output_type": "stream",
          "text": [
            "[10, 12, 14, 16]\n"
          ],
          "name": "stdout"
        }
      ]
    },
    {
      "cell_type": "code",
      "metadata": {
        "id": "PT9KA_S1PQA3"
      },
      "source": [
        ""
      ],
      "execution_count": null,
      "outputs": []
    },
    {
      "cell_type": "code",
      "metadata": {
        "colab": {
          "base_uri": "https://localhost:8080/"
        },
        "id": "gljxErgBv3ji",
        "outputId": "6ba141bd-05af-43b6-ee87-577170c17c3b"
      },
      "source": [
        "user_str=input(\"enter the string\")\r\n",
        "l= user_str.split()\r\n",
        "d={}\r\n",
        "for i in l:\r\n",
        "  d[i]=d.get(i,0)+1\r\n",
        "print(d)"
      ],
      "execution_count": null,
      "outputs": [
        {
          "output_type": "stream",
          "text": [
            "enter the stringhallo world hallo\n",
            "{'hallo': 2, 'world': 1}\n"
          ],
          "name": "stdout"
        }
      ]
    },
    {
      "cell_type": "code",
      "metadata": {
        "colab": {
          "base_uri": "https://localhost:8080/"
        },
        "id": "2U1kZ6SR2feI",
        "outputId": "530105c0-3f4d-4bb6-acf4-153c80e1324b"
      },
      "source": [
        "string=input(\"enter any string\")\r\n",
        "c=input(\"enter the character to check frequency\")\r\n",
        "count=0\r\n",
        "for i in string:\r\n",
        "  if i==c:\r\n",
        "    count+=1\r\n",
        "    print(c,\"occurs\",count,\"time(s).\")\r\n",
        " "
      ],
      "execution_count": null,
      "outputs": [
        {
          "output_type": "stream",
          "text": [
            "enter any stringaa aa tgtaaa\n",
            "enter the character to check frequencya\n",
            "a occurs 1 time(s).\n",
            "a occurs 2 time(s).\n",
            "a occurs 3 time(s).\n",
            "a occurs 4 time(s).\n",
            "a occurs 5 time(s).\n",
            "a occurs 6 time(s).\n",
            "a occurs 7 time(s).\n"
          ],
          "name": "stdout"
        }
      ]
    },
    {
      "cell_type": "code",
      "metadata": {
        "colab": {
          "base_uri": "https://localhost:8080/"
        },
        "id": "3NzOsgx35c-Y",
        "outputId": "40e76f2c-8727-42f6-d2e9-5bf59bedaad4"
      },
      "source": [
        "a=[1,2,7,66,5]\r\n",
        "b=[77,1,99,44,0,4]\r\n",
        "z=[]\r\n",
        "for i in a:\r\n",
        "  if i in b:\r\n",
        "    z.append(i)\r\n",
        "    print(\"the common element are\",z)\r\n",
        "total=sum(a)\r\n",
        "print(\"the sum of all element in the list\",total)\r\n",
        "total=sum(b)\r\n",
        "print(\"the sum of all element in the list\",total)\r\n",
        "  \r\n",
        "print(len(a))\r\n",
        "print(len(b))\r\n",
        "if len(a)==len(b):\r\n",
        "  print(\"same length\")\r\n",
        "else: \r\n",
        "   print(\"two list have different list  length\")\r\n",
        "  "
      ],
      "execution_count": null,
      "outputs": [
        {
          "output_type": "stream",
          "text": [
            "the common element are [1]\n",
            "the sum of all element in the list 81\n",
            "the sum of all element in the list 225\n",
            "5\n",
            "6\n",
            "two list have different list  length\n"
          ],
          "name": "stdout"
        }
      ]
    },
    {
      "cell_type": "code",
      "metadata": {
        "colab": {
          "base_uri": "https://localhost:8080/"
        },
        "id": "JnCh6sv_U5nl",
        "outputId": "d13828f1-5295-40b8-e4e0-e08960753e5d"
      },
      "source": [
        "txt = input(str(\"enter the string\"))\r\n",
        "\r\n",
        "x = txt.replace(\"a\", \"&\")\r\n",
        "\r\n",
        "print(x)\r\n"
      ],
      "execution_count": null,
      "outputs": [
        {
          "output_type": "stream",
          "text": [
            "enter the stringbanana\n",
            "b&n&n&\n"
          ],
          "name": "stdout"
        }
      ]
    },
    {
      "cell_type": "code",
      "metadata": {
        "colab": {
          "base_uri": "https://localhost:8080/"
        },
        "id": "xm10eTg3WZX4",
        "outputId": "d18d5918-c10b-4f43-a857-d61616b89cca"
      },
      "source": [
        "a=input()\r\n",
        "print(\"before exchange:\",a)\r\n",
        "str1=a[-1:]+a[1:-1]+a[0]\r\n",
        "print(\"after exchange:\",str1)"
      ],
      "execution_count": null,
      "outputs": [
        {
          "output_type": "stream",
          "text": [
            "aghdghaghaghdgahg\n",
            "before exchange: aghdghaghaghdgahg\n",
            "after exchange: gghdghaghaghdgaha\n"
          ],
          "name": "stdout"
        }
      ]
    },
    {
      "cell_type": "code",
      "metadata": {
        "colab": {
          "base_uri": "https://localhost:8080/"
        },
        "id": "p-UceQPONgmE",
        "outputId": "a88912ef-62b3-4321-a9fd-97212f489723"
      },
      "source": [
        "\r\n",
        "\r\n",
        "import math\r\n",
        "\r\n",
        "r = float(input('Enter the radius of the circle :'))\r\n",
        "area = math.pi * r * r\r\n",
        "\r\n",
        "print(\"Area of the circle is : %.2f\" %area)\r\n"
      ],
      "execution_count": null,
      "outputs": [
        {
          "output_type": "stream",
          "text": [
            "Enter the radius of the circle :5\n",
            "Area of the circle is : 78.54\n"
          ],
          "name": "stdout"
        }
      ]
    },
    {
      "cell_type": "code",
      "metadata": {
        "id": "t32nZxiUeimA",
        "colab": {
          "base_uri": "https://localhost:8080/"
        },
        "outputId": "38903b27-5b1f-43c4-bcb5-e4ce50d24246"
      },
      "source": [
        "num1 = int(input())\r\n",
        "num2 = int(input())\r\n",
        "num3 = int(input())\r\n",
        "if (num1 >= num2) and (num1 >= num3):\r\n",
        " largest = num1\r\n",
        "elif (num2 >= num1) and (num2 >= num3):\r\n",
        " greatest = num2\r\n",
        "else:\r\n",
        " greatest = num3\r\n",
        "print(\"The greatest number is\",greatest )\r\n"
      ],
      "execution_count": null,
      "outputs": [
        {
          "output_type": "stream",
          "text": [
            "2\n",
            "4\n",
            "9\n",
            "The greatest number is 9\n"
          ],
          "name": "stdout"
        }
      ]
    },
    {
      "cell_type": "code",
      "metadata": {
        "colab": {
          "base_uri": "https://localhost:8080/"
        },
        "id": "zTWB_JOnp2fX",
        "outputId": "2d3d5586-faff-4b45-9c8d-f182b96f1a3b"
      },
      "source": [
        "filename=input(\"input filename\")\r\n",
        "f_extns=filename.split(\".\")\r\n",
        "print(\"extension of the file is:\"+repr(f_extns[-1]))"
      ],
      "execution_count": null,
      "outputs": [
        {
          "output_type": "stream",
          "text": [
            "input filenameabcd.ghy\n",
            "extension of the file is:'ghy'\n"
          ],
          "name": "stdout"
        }
      ]
    },
    {
      "cell_type": "code",
      "metadata": {
        "colab": {
          "base_uri": "https://localhost:8080/"
        },
        "id": "VGz6zipQtsI0",
        "outputId": "fcc91690-21c0-4a51-9555-6ad5018b7dd3"
      },
      "source": [
        "n=int(input(\"enter a number n:\"))\r\n",
        "temp=str(n)\r\n",
        "t1=temp+temp\r\n",
        "t2=temp+temp+temp\r\n",
        "comp=n+int(t1)+int(t2)\r\n",
        "print(\"the value is :\",comp)"
      ],
      "execution_count": null,
      "outputs": [
        {
          "output_type": "stream",
          "text": [
            "enter a number n:5\n",
            "the value is : 615\n"
          ],
          "name": "stdout"
        }
      ]
    },
    {
      "cell_type": "code",
      "metadata": {
        "colab": {
          "base_uri": "https://localhost:8080/",
          "height": 129
        },
        "id": "ep3M1ZZj2NW0",
        "outputId": "3bf8c47e-0989-4957-e533-f59cd6cf2cc9"
      },
      "source": [
        "details=('India':'New Delhi','America':'Washington Dc','Japan':'Tokyo')\r\n",
        "print('Country-Capital List...')\r\n",
        "print(details)\r\n",
        "import operator\r\n",
        "\r\n",
        "sort1=dict(sorted(details.items(),key=operator.itemgetter(1)))\r\n",
        "print('Country-capital in ascending order of capital...')\r\n",
        "print(sort1)\r\n",
        "\r\n",
        "sort1=dict(sorted(details.items(),key=operator.itemgetter(1),reverse=True))\r\n",
        "print('Country-capital in descending order of capital...')\r\n",
        "print(sort2)"
      ],
      "execution_count": null,
      "outputs": [
        {
          "output_type": "error",
          "ename": "SyntaxError",
          "evalue": "ignored",
          "traceback": [
            "\u001b[0;36m  File \u001b[0;32m\"<ipython-input-13-f1017c43500f>\"\u001b[0;36m, line \u001b[0;32m1\u001b[0m\n\u001b[0;31m    details=('India':'New Delhi','America':'Washington Dc','Japan':'Tokyo')\u001b[0m\n\u001b[0m                    ^\u001b[0m\n\u001b[0;31mSyntaxError\u001b[0m\u001b[0;31m:\u001b[0m invalid syntax\n"
          ]
        }
      ]
    },
    {
      "cell_type": "code",
      "metadata": {
        "colab": {
          "base_uri": "https://localhost:8080/"
        },
        "id": "b3M6tqkK5vNM",
        "outputId": "c39336bf-1363-4b6e-9ca4-121e8ae615c9"
      },
      "source": [
        "a=int(input(\"enter a:\"))\r\n",
        "b=int(input(\"enter b:\"))\r\n",
        "c=min(a,b)\r\n",
        "gcd=1\r\n",
        "for i in range(1,c+1):\r\n",
        "  if a%i==0 and b%i==0:\r\n",
        "    gcd=i\r\n",
        "    print( \"gcd i is :\",gcd)\r\n",
        "  "
      ],
      "execution_count": null,
      "outputs": [
        {
          "output_type": "stream",
          "text": [
            "enter a:20\n",
            "enter b:50\n",
            "gcd i is : 1\n",
            "gcd i is : 2\n",
            "gcd i is : 5\n",
            "gcd i is : 10\n"
          ],
          "name": "stdout"
        }
      ]
    }
  ]
}